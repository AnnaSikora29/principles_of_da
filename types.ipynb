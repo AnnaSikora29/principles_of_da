{
 "cells": [
  {
   "cell_type": "markdown",
   "id": "87f973ed",
   "metadata": {},
   "source": []
  },
  {
   "cell_type": "markdown",
   "id": "d2d941c9",
   "metadata": {},
   "source": [
    "## Types"
   ]
  },
  {
   "cell_type": "code",
   "execution_count": 5,
   "id": "e78069b2",
   "metadata": {},
   "outputs": [],
   "source": [
    "# Data structures.\n",
    "import struct"
   ]
  },
  {
   "cell_type": "markdown",
   "id": "94869b34",
   "metadata": {},
   "source": [
    "### Stevens Scales of Measurement"
   ]
  },
  {
   "cell_type": "markdown",
   "id": "4e461399",
   "metadata": {},
   "source": []
  },
  {
   "cell_type": "markdown",
   "id": "1b6508c2",
   "metadata": {},
   "source": [
    "Stevens, S. S. On the Theory of Scales of Measurement.\n",
    "Science 103, no. 2684 (1946): 677–80.\n",
    "http://www.jstor.org/stable/1671815.\n",
    "\n",
    "Four scales of measurement in 1946.\n",
    "Classify data based on their mathematical properties.\n",
    "\n",
    "1. Nominal - Categorizes data without any order (e.g., gender, blood type).\n",
    "\n",
    "2. Ordinal – Ranks data but without consistent intervals (e.g., survey ratings, race positions).\n",
    "\n",
    "3. Interval – Measures ordered data with equal intervals but no true zero (e.g., temperature in Celsius, IQ scores).\n",
    "\n",
    "4. Ratio – Has ordered data, equal intervals, and a true zero (e.g., weight, height, age, income)."
   ]
  },
  {
   "cell_type": "markdown",
   "id": "ab2d355e",
   "metadata": {},
   "source": []
  },
  {
   "cell_type": "markdown",
   "id": "e03d8d16",
   "metadata": {},
   "source": [
    "### Types in Python\n"
   ]
  },
  {
   "cell_type": "markdown",
   "id": "fbc173f0",
   "metadata": {},
   "source": [
    "https://docs.python.org/3/library/stdtypes.html"
   ]
  },
  {
   "cell_type": "markdown",
   "id": "6f530848",
   "metadata": {},
   "source": [
    "1. Numeric\n",
    "\n",
    "- int (e.g., 42)\n",
    "- float (e.g., 3.14)\n",
    "- complex (e.g., 2 + 3j)\n",
    "\n",
    "2. Boolean/Binary\n",
    "\n",
    "- bool (e.g., True, False)\n",
    "- bytes (e.g., b'hello')\n",
    "- bytearray (mutable version of bytes)\n",
    "- memoryview (view over binary data)\n",
    "\n",
    "3. Sequence\n",
    "\n",
    "- str (e.g., \"hello\")\n",
    "- list (e.g., [1, 2, 3])\n",
    "- tuple (e.g., (1, 2, 3))\n",
    "\n",
    "4. Other\n",
    "\n",
    "- set (e.g., {1, 2, 3})\n",
    "- frozenset (immutable version of set)\n",
    "- dict (e.g., {\"key\": \"value\"})"
   ]
  },
  {
   "cell_type": "markdown",
   "id": "b700cd7a",
   "metadata": {},
   "source": []
  },
  {
   "cell_type": "markdown",
   "id": "3c59b559",
   "metadata": {},
   "source": [
    "### Binary Integers\n",
    "You can see the binary representation of an integer in Python using the bin() function."
   ]
  },
  {
   "cell_type": "code",
   "execution_count": 6,
   "id": "729bb28b",
   "metadata": {},
   "outputs": [
    {
     "data": {
      "text/plain": [
       "65"
      ]
     },
     "execution_count": 6,
     "metadata": {},
     "output_type": "execute_result"
    }
   ],
   "source": [
    "# Example integer - literal written in decimal.\n",
    "num = 65\n",
    "\n",
    "# Show.\n",
    "num"
   ]
  },
  {
   "cell_type": "code",
   "execution_count": 7,
   "id": "3fd374d6",
   "metadata": {},
   "outputs": [
    {
     "data": {
      "text/plain": [
       "'0b1000001'"
      ]
     },
     "execution_count": 7,
     "metadata": {},
     "output_type": "execute_result"
    }
   ],
   "source": [
    "# In binary.\n",
    "bin(num)"
   ]
  },
  {
   "cell_type": "code",
   "execution_count": 8,
   "id": "ab495c0a",
   "metadata": {},
   "outputs": [
    {
     "data": {
      "text/plain": [
       "'1000001'"
      ]
     },
     "execution_count": 8,
     "metadata": {},
     "output_type": "execute_result"
    }
   ],
   "source": [
    "# Remove 0b.\n",
    "bin(num)[2:]"
   ]
  },
  {
   "cell_type": "code",
   "execution_count": 9,
   "id": "f737a9a7",
   "metadata": {},
   "outputs": [
    {
     "name": "stdout",
     "output_type": "stream",
     "text": [
      "1000001\n"
     ]
    }
   ],
   "source": [
    "# Use f-strings.\n",
    "# https://realpython.com/python-f-strings/\n",
    "print(f\"{num:b}\")"
   ]
  },
  {
   "cell_type": "code",
   "execution_count": 10,
   "id": "23390f4c",
   "metadata": {},
   "outputs": [
    {
     "name": "stdout",
     "output_type": "stream",
     "text": [
      "65\n"
     ]
    }
   ],
   "source": [
    "# Literal in binary.\n",
    "print(0b1000001)"
   ]
  },
  {
   "cell_type": "code",
   "execution_count": 11,
   "id": "5a490dc8",
   "metadata": {},
   "outputs": [
    {
     "name": "stdout",
     "output_type": "stream",
     "text": [
      "-1000001\n"
     ]
    }
   ],
   "source": [
    "# Negative numbers.\n",
    "print(f'{-65:b}')"
   ]
  },
  {
   "cell_type": "code",
   "execution_count": 12,
   "id": "1d0a2697",
   "metadata": {},
   "outputs": [
    {
     "name": "stdout",
     "output_type": "stream",
     "text": [
      "259\n"
     ]
    }
   ],
   "source": [
    "# Literal in binary.\n",
    "print(0b100000011)"
   ]
  },
  {
   "cell_type": "markdown",
   "id": "13d700a3",
   "metadata": {},
   "source": [
    "### Binary Floats\n",
    "https://docs.python.org/3/library/struct.html\n",
    "\n",
    "Python does not have a built-in function like bin() for floats.\n",
    "You can use the struct module to see the IEEE 754 binary representation of a float.\n",
    "This is quite advanced."
   ]
  },
  {
   "cell_type": "code",
   "execution_count": 13,
   "id": "0a555dad",
   "metadata": {},
   "outputs": [
    {
     "data": {
      "text/plain": [
       "3.14"
      ]
     },
     "execution_count": 13,
     "metadata": {},
     "output_type": "execute_result"
    }
   ],
   "source": [
    "# Float\n",
    "num = 3.14\n",
    "\n",
    "# Show.\n",
    "num"
   ]
  },
  {
   "cell_type": "code",
   "execution_count": 14,
   "id": "d1f0df7f",
   "metadata": {},
   "outputs": [
    {
     "name": "stdout",
     "output_type": "stream",
     "text": [
      "01000000010010001111010111000011\n"
     ]
    }
   ],
   "source": [
    "# 32-bit representation.\n",
    "binary_representation = ''.join(f\"{b:08b}\" for b in struct.pack('!f', num))\n",
    "print(binary_representation)"
   ]
  },
  {
   "cell_type": "code",
   "execution_count": 15,
   "id": "6146bb97",
   "metadata": {},
   "outputs": [
    {
     "name": "stdout",
     "output_type": "stream",
     "text": [
      "0100000000001001000111101011100001010001111010111000010100011111\n"
     ]
    }
   ],
   "source": [
    "# 64-bit representation.\n",
    "binary_representation_64 = ''.join(f\"{b:08b}\" for b in struct.pack('!d', num))\n",
    "print(binary_representation_64)"
   ]
  },
  {
   "cell_type": "markdown",
   "id": "566db347",
   "metadata": {},
   "source": [
    "struct.pack('!f', num)\n",
    "Converts the float into 4 bytes (32-bit IEEE 754)\n",
    "\n",
    "struct.pack('!d', num)\n",
    "Converts the float into 8 bytes (64-bit IEEE 754)\n",
    "\n",
    "Each byte is converted to 8-bit binary using f\"{b:08b}\""
   ]
  },
  {
   "cell_type": "markdown",
   "id": "b1880e43",
   "metadata": {},
   "source": [
    "### **Why Types?**\n",
    "\n",
    "1. **Memory Efficiency**\n",
    "\n",
    "   Types define how much memory a value occupies (e.g., int vs. float).\n",
    "\n",
    "2. **Prevent Errors**\n",
    "\n",
    "   Type checking catches mistakes early (e.g., adding a string to an integer).\n",
    "\n",
    "3. **Improve Performance**\n",
    "\n",
    "   Compilers and interpreters optimize code based on known types.\n",
    "\n",
    "4. **Provide Meaningful Operations**\n",
    "\n",
    "   Types define what operations are valid (e.g., division for float, concatenation for str).\n",
    "\n",
    "5. **Enhance Code Readability & Maintainability**\n",
    "\n",
    "   Explicit types make code easier to understand and debug.\n",
    "\n",
    "6. **Enable Better Tooling**\n",
    "\n",
    "   IDEs, linters, and static analyzers use types for better suggestions and error detection."
   ]
  },
  {
   "cell_type": "markdown",
   "id": "73f3ec75",
   "metadata": {},
   "source": []
  },
  {
   "cell_type": "markdown",
   "id": "2991db64",
   "metadata": {},
   "source": [
    "### **Operators**\n",
    "The + operator in Python does something different for different types."
   ]
  },
  {
   "cell_type": "markdown",
   "id": "c27c9703",
   "metadata": {},
   "source": []
  },
  {
   "cell_type": "code",
   "execution_count": 16,
   "id": "1bfb1cf6",
   "metadata": {},
   "outputs": [
    {
     "data": {
      "text/plain": [
       "8"
      ]
     },
     "execution_count": 16,
     "metadata": {},
     "output_type": "execute_result"
    }
   ],
   "source": [
    "# Integer.\n",
    "3 + 5"
   ]
  },
  {
   "cell_type": "code",
   "execution_count": 17,
   "id": "d9198ec8",
   "metadata": {},
   "outputs": [
    {
     "data": {
      "text/plain": [
       "8.0"
      ]
     },
     "execution_count": 17,
     "metadata": {},
     "output_type": "execute_result"
    }
   ],
   "source": [
    "# Float.\n",
    "3.0 + 5.0"
   ]
  },
  {
   "cell_type": "code",
   "execution_count": 18,
   "id": "eb7780ab",
   "metadata": {},
   "outputs": [
    {
     "data": {
      "text/plain": [
       "'35'"
      ]
     },
     "execution_count": 18,
     "metadata": {},
     "output_type": "execute_result"
    }
   ],
   "source": [
    "# String.\n",
    "'3' + '5'"
   ]
  },
  {
   "cell_type": "code",
   "execution_count": 19,
   "id": "567a152e",
   "metadata": {},
   "outputs": [
    {
     "data": {
      "text/plain": [
       "[3, 5]"
      ]
     },
     "execution_count": 19,
     "metadata": {},
     "output_type": "execute_result"
    }
   ],
   "source": [
    "# List.\n",
    "[3] + [5]"
   ]
  },
  {
   "cell_type": "code",
   "execution_count": 20,
   "id": "9c578896",
   "metadata": {},
   "outputs": [],
   "source": [
    "# Add an int to a string.\n",
    "# '3' + 5"
   ]
  },
  {
   "cell_type": "code",
   "execution_count": 21,
   "id": "30dfa65b",
   "metadata": {},
   "outputs": [
    {
     "data": {
      "text/plain": [
       "'33333'"
      ]
     },
     "execution_count": 21,
     "metadata": {},
     "output_type": "execute_result"
    }
   ],
   "source": [
    "# Multiply an int to a string.\n",
    "'3' * 5"
   ]
  },
  {
   "cell_type": "markdown",
   "id": "4c50940b",
   "metadata": {},
   "source": [
    "## Machine Words\n",
    "\n",
    "- Fixed size based on CPU architecture (e.g., 32-bit, 64-bit).\n",
    "- Can store integers, addresses, or raw data.\n",
    "- Used in low-level operations like memory addressing."
   ]
  },
  {
   "cell_type": "markdown",
   "id": "ddb03981",
   "metadata": {},
   "source": [
    "## End"
   ]
  }
 ],
 "metadata": {
  "kernelspec": {
   "display_name": "Python 3",
   "language": "python",
   "name": "python3"
  },
  "language_info": {
   "codemirror_mode": {
    "name": "ipython",
    "version": 3
   },
   "file_extension": ".py",
   "mimetype": "text/x-python",
   "name": "python",
   "nbconvert_exporter": "python",
   "pygments_lexer": "ipython3",
   "version": "3.12.1"
  }
 },
 "nbformat": 4,
 "nbformat_minor": 5
}
